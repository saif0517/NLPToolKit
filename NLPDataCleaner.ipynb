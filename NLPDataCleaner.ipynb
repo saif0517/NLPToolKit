{
 "cells": [
  {
   "cell_type": "markdown",
   "metadata": {},
   "source": [
    "# NLP Data Cleaner"
   ]
  },
  {
   "cell_type": "markdown",
   "metadata": {},
   "source": [
    "\n",
    "This module will clean the text part of each element in a DataFrames Column or List.\n",
    "\n",
    "Input :\n",
    "- Column of the dataframe\n",
    "- remove digit (true/false) ->  to clean all the digits,\n",
    "- remove punctuation (true/false) -> to clean all the punctuations,\n",
    "- remove stopwords (true/false) -> to clean all the stopwords,\n",
    "\n",
    "Output :\n",
    "DataFrame with column \n",
    "- \"Cleaned Text\" : cleaned text\n",
    "- \"Dates\" : all the dates in text.\n",
    "\n",
    "\n",
    "Usage : \n",
    "\n",
    "       nlpDC = NLPDataCleaner()\n",
    "       res_df = nlpDC.cleanDfColumn(myDf[\"col_name\"], digit = true, punc = true, sw = true)"
   ]
  },
  {
   "cell_type": "code",
   "execution_count": 48,
   "metadata": {},
   "outputs": [],
   "source": [
    "# Imports used\n",
    "\n",
    "import pandas as pd\n",
    "from nltk.corpus import stopwords\n",
    "import datefinder\n",
    "import string\n"
   ]
  },
  {
   "cell_type": "code",
   "execution_count": 74,
   "metadata": {},
   "outputs": [],
   "source": [
    "class NLPDataCleaner:\n",
    "    \n",
    "    '''\n",
    "    def __init__(self): \n",
    "        self.\n",
    "    '''\n",
    "    \n",
    "    def cleanDfColumn(self, dfColumn, digit=True, punc=True, sw=True):\n",
    "        \n",
    "        res_df = pd.DataFrame({ 'Cleaned Text': dfColumn\n",
    "                              })\n",
    "        \n",
    "        #filter down the dates in each row\n",
    "        dateCol = []\n",
    "        for text in res_df['Cleaned Text']:\n",
    "            matches = datefinder.find_dates(text)\n",
    "            dateList = []\n",
    "            for match in matches:\n",
    "                dateList.append(match)\n",
    "            dateCol.append(dateList)\n",
    "\n",
    "        res_df['Dates'] = dateCol\n",
    "        \n",
    "        #remove the digits\n",
    "        if digit == True:\n",
    "            res_df['Cleaned Text'] = res_df['Cleaned Text'].replace('\\d+', '', regex=True)\n",
    "        \n",
    "        #remove the punc\n",
    "        if punc == True:\n",
    "            res_df['Cleaned Text'] = res_df['Cleaned Text'].apply(lambda x:''.join([i for i in x \n",
    "                                                  if i not in string.punctuation]))\n",
    "        \n",
    "        \n",
    "        #remove the stopwords\n",
    "        stop = stopwords.words('english')\n",
    "        \n",
    "        res_df['Cleaned Text'] = res_df['Cleaned Text'].apply(lambda x: ' '.join([word for word in x.split() if word not in (stop)]))\n",
    "        \n",
    "        \n",
    "        return res_df"
   ]
  },
  {
   "cell_type": "markdown",
   "metadata": {},
   "source": [
    "# Usage :"
   ]
  },
  {
   "cell_type": "code",
   "execution_count": 75,
   "metadata": {},
   "outputs": [],
   "source": [
    "myDf = pd.DataFrame({'col_name':['what is my name 11 Nov, 2011 and 11 jan', 'jkdfskkkd11/2/2011', 'jgyutyuedf_kjfjk?jjhgd...12/2/2011', 'jfjfde__13/2/2011']\n",
    "                    }) \n",
    "nlpDC = NLPDataCleaner()\n",
    "res_df = nlpDC.cleanDfColumn(myDf[\"col_name\"], digit = True, punc = True, sw = True)"
   ]
  },
  {
   "cell_type": "code",
   "execution_count": 76,
   "metadata": {},
   "outputs": [
    {
     "name": "stdout",
     "output_type": "stream",
     "text": [
      "           Cleaned Text                                       Dates\n",
      "0          name Nov jan  [2011-11-11 00:00:00, 2021-01-11 00:00:00]\n",
      "1             jkdfskkkd                       [2011-11-02 00:00:00]\n",
      "2  jgyutyuedfkjfjkjjhgd                       [2011-12-02 00:00:00]\n",
      "3                jfjfde                       [2011-02-13 00:00:00]\n"
     ]
    }
   ],
   "source": [
    "print(res_df)"
   ]
  },
  {
   "cell_type": "code",
   "execution_count": null,
   "metadata": {},
   "outputs": [],
   "source": []
  }
 ],
 "metadata": {
  "kernelspec": {
   "display_name": "Python 3",
   "language": "python",
   "name": "python3"
  },
  "language_info": {
   "codemirror_mode": {
    "name": "ipython",
    "version": 3
   },
   "file_extension": ".py",
   "mimetype": "text/x-python",
   "name": "python",
   "nbconvert_exporter": "python",
   "pygments_lexer": "ipython3",
   "version": "3.8.5"
  }
 },
 "nbformat": 4,
 "nbformat_minor": 4
}
